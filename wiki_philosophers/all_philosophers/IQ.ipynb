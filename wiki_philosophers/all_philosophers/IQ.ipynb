{
 "cells": [
  {
   "cell_type": "code",
   "execution_count": 5,
   "metadata": {},
   "outputs": [],
   "source": [
    "import requests\n",
    "from bs4 import BeautifulSoup\n",
    "import numpy as np \n",
    "\n",
    "URL = 'https://en.wikipedia.org/wiki/List_of_philosophers_(I%E2%80%93Q)'\n",
    "\n",
    "page = requests.get(URL)\n",
    "\n",
    "soup = BeautifulSoup(page.text, \"html.parser\")\n"
   ]
  },
  {
   "cell_type": "code",
   "execution_count": 6,
   "metadata": {},
   "outputs": [],
   "source": [
    "philosophers = []\n",
    "urlPhilosophers = []\n",
    "h2s = soup.find_all('h2')\n",
    "for i in range(3):\n",
    "    result = h2s[i]\n",
    "    for li in (result.find_next_siblings()[0]).select('li'):\n",
    "        for element in li.select('a'):\n",
    "            try:\n",
    "                if element['title']:\n",
    "                    philosophers.append(element.text.lower())\n",
    "                    urlPhilosophers.append(element['href'])\n",
    "            except:\n",
    "                continue\n",
    "\n",
    "philosophers = np.array(philosophers)\n",
    "urlPhilosophers = np.array(urlPhilosophers)"
   ]
  },
  {
   "cell_type": "code",
   "execution_count": 7,
   "metadata": {},
   "outputs": [
    {
     "data": {
      "text/plain": [
       "'kuo hsiang'"
      ]
     },
     "execution_count": 7,
     "metadata": {},
     "output_type": "execute_result"
    }
   ],
   "source": [
    "philosophers[-1]"
   ]
  },
  {
   "cell_type": "code",
   "execution_count": 8,
   "metadata": {},
   "outputs": [],
   "source": [
    "np.save('IQ_url.npy', urlPhilosophers)\n",
    "np.save('IQ.npy', philosophers)"
   ]
  },
  {
   "cell_type": "code",
   "execution_count": null,
   "metadata": {},
   "outputs": [],
   "source": []
  }
 ],
 "metadata": {
  "kernelspec": {
   "display_name": "base",
   "language": "python",
   "name": "python3"
  },
  "language_info": {
   "codemirror_mode": {
    "name": "ipython",
    "version": 3
   },
   "file_extension": ".py",
   "mimetype": "text/x-python",
   "name": "python",
   "nbconvert_exporter": "python",
   "pygments_lexer": "ipython3",
   "version": "3.8.10"
  },
  "orig_nbformat": 4
 },
 "nbformat": 4,
 "nbformat_minor": 2
}
